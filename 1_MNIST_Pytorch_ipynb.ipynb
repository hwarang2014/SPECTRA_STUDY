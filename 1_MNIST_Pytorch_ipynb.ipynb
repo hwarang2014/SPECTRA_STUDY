{
  "nbformat": 4,
  "nbformat_minor": 0,
  "metadata": {
    "language_info": {
      "codemirror_mode": {
        "name": "ipython",
        "version": 2
      },
      "file_extension": ".py",
      "mimetype": "text/x-python",
      "name": "python",
      "nbconvert_exporter": "python",
      "pygments_lexer": "ipython2",
      "version": "2.7.6"
    },
    "kernelspec": {
      "name": "python3",
      "language": "python",
      "display_name": "Python 3"
    },
    "colab": {
      "name": "1_MNIST_tensorflow.ipynb의 사본의 사본",
      "version": "0.3.2",
      "provenance": [],
      "collapsed_sections": []
    },
    "accelerator": "TPU"
  },
  "cells": [
    {
      "cell_type": "code",
      "metadata": {
        "id": "olbq2wIY0VnZ",
        "colab_type": "code",
        "outputId": "d5db1998-9fbb-4f39-ace5-abe6feabaf34",
        "colab": {
          "base_uri": "https://localhost:8080/",
          "height": 34
        },
        "pycharm": {}
      },
      "source": [
        "!pwd"
      ],
      "execution_count": 0,
      "outputs": [
        {
          "output_type": "stream",
          "text": [
            "/content\n"
          ],
          "name": "stdout"
        }
      ]
    },
    {
      "cell_type": "code",
      "metadata": {
        "pycharm": {
          "name": "#%%\n",
          "is_executing": false
        },
        "id": "7Blzk7n2x1x1",
        "colab_type": "code",
        "colab": {}
      },
      "source": [
        "import torch\n",
        "import torch.nn as nn\n",
        "import torch.nn.functional as F\n",
        "from torch.utils.data import Dataset, DataLoader\n",
        "\n",
        "import torchvision\n",
        "import torchvision.transforms as transforms\n",
        "from torchvision.utils import make_grid"
      ],
      "execution_count": 0,
      "outputs": []
    },
    {
      "cell_type": "code",
      "metadata": {
        "pycharm": {
          "metadata": false,
          "name": "#%%\n"
        },
        "id": "K1LZ0HImx1x5",
        "colab_type": "code",
        "colab": {}
      },
      "source": [
        "class MNIST(Dataset):\n",
        "    def __init__(self, X, y\u003dNone, transform\u003dNone):\n",
        "        self.X \u003d X\n",
        "        self.y \u003d y\n",
        "        self.transform \u003d transform\n",
        "        \n",
        "    def __len__(self):\n",
        "        return len(self.X.index)\n",
        "    \n",
        "    def __getitem__(self, index):\n",
        "        image \u003d self.X.iloc[index, ].values.astype(np.uint8).reshape((28, 28, 1))\n",
        "        \n",
        "        if self.transform is not None:\n",
        "            image \u003d self.transform(image)\n",
        "            \n",
        "        if self.y is not None:\n",
        "            return image, self.y.iloc[index]\n",
        "        else:\n",
        "            return image"
      ],
      "execution_count": 0,
      "outputs": []
    },
    {
      "cell_type": "code",
      "metadata": {
        "id": "ktEBRti-y26K",
        "colab_type": "code",
        "colab": {},
        "pycharm": {}
      },
      "source": [
        "import numpy as np # linear algebra\n",
        "import pandas as pd # data processing, CSV file I/O (e.g. pd.read_csv)\n",
        "import matplotlib.pyplot as plt\n",
        "\n",
        "from sklearn.model_selection import train_test_split\n",
        "%matplotlib inline"
      ],
      "execution_count": 0,
      "outputs": []
    },
    {
      "cell_type": "code",
      "metadata": {
        "id": "J5wk_RsCy6si",
        "colab_type": "code",
        "outputId": "c3aa0526-03f3-4bf9-add8-ce9d4645833f",
        "colab": {
          "base_uri": "https://localhost:8080/",
          "height": 52
        },
        "pycharm": {}
      },
      "source": "train_df \u003d pd.read_csv(\u0027./data/mnist_train.csv\u0027)\ntest_df \u003d pd.read_csv(\u0027./data/mnist_test.csv\u0027)\n\nprint(\u0027train data shape : \u0027, train_df.shape)\nprint(\u0027test data shape : \u0027, test_df.shape)",
      "execution_count": 0,
      "outputs": [
        {
          "output_type": "stream",
          "text": [
            "train data shape :  (44774, 785)\n",
            "test data shape :  (9999, 785)\n"
          ],
          "name": "stdout"
        }
      ]
    },
    {
      "cell_type": "code",
      "metadata": {
        "id": "3ZZSqapMy6xz",
        "colab_type": "code",
        "outputId": "301f29c0-e99d-4127-bced-98b1e40fc17c",
        "colab": {
          "base_uri": "https://localhost:8080/",
          "height": 121
        },
        "pycharm": {}
      },
      "source": [
        "X_train, X_valid, y_train, y_valid \u003d \\\n",
        "    train_test_split(train_df.iloc[:, 1:], train_df.iloc[:,0], test_size\u003d1/6, random_state\u003d42)\n",
        "\n",
        "X_test, XY_test \u003d test_df.iloc[:, 1:],test_df.iloc[:, 0]\n",
        "\n",
        "print(\u0027train image shape : \u0027, X_train.shape)\n",
        "print(\u0027train label shape : \u0027, y_train.shape)\n",
        "print(\u0027valid image shape : \u0027, X_valid.shape)\n",
        "print(\u0027valid label image : \u0027, y_valid.shape)\n",
        "print(\u0027test image shape  : \u0027, X_test.shape)\n",
        "print(\u0027test image shape  : \u0027, XY_test.shape)"
      ],
      "execution_count": 0,
      "outputs": [
        {
          "output_type": "stream",
          "text": [
            "train image shape :  (37311, 784)\n",
            "train label shape :  (37311,)\n",
            "valid image shape :  (7463, 784)\n",
            "valid label image :  (7463,)\n",
            "test image shape  :  (9999, 784)\n",
            "test image shape  :  (9999,)\n"
          ],
          "name": "stdout"
        }
      ]
    },
    {
      "cell_type": "code",
      "metadata": {
        "id": "N1e6_Ix-y600",
        "colab_type": "code",
        "colab": {},
        "pycharm": {}
      },
      "source": [
        "transform\u003dtransforms.Compose([\n",
        "    transforms.ToPILImage(),\n",
        "    transforms.RandomRotation(10),\n",
        "    transforms.ToTensor()\n",
        "])\n",
        "\n",
        "train_dataset \u003d MNIST(X\u003dX_train, y\u003dy_train, transform\u003dtransform)\n",
        "valid_dataset \u003d MNIST(X\u003dX_valid, y\u003dy_valid, transform\u003dtransforms.ToTensor())\n",
        "test_dataset \u003d MNIST(X\u003dX_test, y\u003d None, transform\u003dtransforms.ToTensor())\n",
        "\n",
        "train_loader \u003d DataLoader(dataset\u003dtrain_dataset, batch_size\u003d128, shuffle\u003dTrue)\n",
        "valid_loader \u003d DataLoader(dataset\u003dvalid_dataset, batch_size\u003d128, shuffle\u003dFalse)\n",
        "test_loader \u003d DataLoader(dataset\u003dtest_dataset, batch_size\u003d128, shuffle\u003dFalse)"
      ],
      "execution_count": 0,
      "outputs": []
    },
    {
      "cell_type": "code",
      "metadata": {
        "id": "Dxe4vwGazRyZ",
        "colab_type": "code",
        "outputId": "b5e16851-7505-4cea-ef01-a8661b8e5e23",
        "colab": {
          "base_uri": "https://localhost:8080/",
          "height": 52
        },
        "pycharm": {}
      },
      "source": [
        "dataiter \u003d iter(train_loader)\n",
        "images, labels \u003d dataiter.next()\n",
        "\n",
        "print(\u0027images shape on PyTroch : \u0027, images.size())\n",
        "print(\u0027labels shape on PyTroch : \u0027, labels.size())"
      ],
      "execution_count": 0,
      "outputs": [
        {
          "output_type": "stream",
          "text": [
            "images shape on PyTroch :  torch.Size([128, 1, 28, 28])\n",
            "labels shape on PyTroch :  torch.Size([128])\n"
          ],
          "name": "stdout"
        }
      ]
    },
    {
      "cell_type": "code",
      "metadata": {
        "id": "k8MNAjtGzR0_",
        "colab_type": "code",
        "outputId": "cc42ff94-7fc9-447c-fc3f-a6f9309f2a07",
        "colab": {
          "base_uri": "https://localhost:8080/",
          "height": 611
        },
        "pycharm": {}
      },
      "source": [
        "grid \u003d make_grid(images[:25], nrow\u003d5)\n",
        "\n",
        "fig, ax \u003d plt.subplots(figsize\u003d(15, 10))\n",
        "ax.imshow(grid.numpy().transpose((1, 2, 0)))\n",
        "ax.axis(\u0027off\u0027)"
      ],
      "execution_count": 0,
      "outputs": [
        {
          "output_type": "execute_result",
          "data": {
            "text/plain": [
              "(-0.5, 151.5, 151.5, -0.5)"
            ]
          },
          "metadata": {
            "tags": []
          },
          "execution_count": 185
        },
        {
          "output_type": "display_data",
          "data": {
            "image/png": "[encoded data removed]",
            "text/plain": [
              "\u003cFigure size 1080x720 with 1 Axes\u003e"
            ]
          },
          "metadata": {
            "tags": []
          }
        }
      ]
    },
    {
      "cell_type": "code",
      "metadata": {
        "id": "LWR5UoqEzR4K",
        "colab_type": "code",
        "colab": {},
        "pycharm": {}
      },
      "source": [
        "class MLP(nn.Module):\n",
        "    def __init__(self):\n",
        "        super(MLP, self).__init__()\n",
        "        self.layers \u003d nn.Sequential(\n",
        "            nn.Linear(784, 100),\n",
        "            nn.ReLU(),\n",
        "            nn.Linear(100, 100),\n",
        "            nn.ReLU(),\n",
        "            nn.Linear(100, 10)\n",
        "        )\n",
        "        \n",
        "    def forward(self, x):\n",
        "        # convert tensor (128, 1, 28, 28) --\u003e (128, 1*28*28)\n",
        "        x \u003d x.view(x.size(0), -1)\n",
        "        x \u003d self.layers(x)\n",
        "        return x"
      ],
      "execution_count": 0,
      "outputs": []
    },
    {
      "cell_type": "code",
      "metadata": {
        "id": "lcaamINVzbsE",
        "colab_type": "code",
        "outputId": "45cb1e74-730e-4893-a980-f6b1732b6cde",
        "colab": {
          "base_uri": "https://localhost:8080/",
          "height": 173
        },
        "pycharm": {}
      },
      "source": [
        "model \u003d MLP()\n",
        "print(model)"
      ],
      "execution_count": 0,
      "outputs": [
        {
          "output_type": "stream",
          "text": [
            "MLP(\n",
            "  (layers): Sequential(\n",
            "    (0): Linear(in_features\u003d784, out_features\u003d100, bias\u003dTrue)\n",
            "    (1): ReLU()\n",
            "    (2): Linear(in_features\u003d100, out_features\u003d100, bias\u003dTrue)\n",
            "    (3): ReLU()\n",
            "    (4): Linear(in_features\u003d100, out_features\u003d10, bias\u003dTrue)\n",
            "  )\n",
            ")\n"
          ],
          "name": "stdout"
        }
      ]
    },
    {
      "cell_type": "code",
      "metadata": {
        "id": "zHIjG52Tzbut",
        "colab_type": "code",
        "colab": {},
        "pycharm": {}
      },
      "source": [
        "optimizer \u003d torch.optim.Adam(model.parameters(), lr\u003d0.001)\n",
        "loss_fn \u003d nn.CrossEntropyLoss()"
      ],
      "execution_count": 0,
      "outputs": []
    },
    {
      "cell_type": "code",
      "metadata": {
        "id": "Mnfs1IozziM2",
        "colab_type": "code",
        "outputId": "86ef087c-41b3-4d0b-b877-6e304071eac3",
        "colab": {
          "base_uri": "https://localhost:8080/",
          "height": 677
        },
        "pycharm": {}
      },
      "source": [
        "mean_train_losses \u003d []\n",
        "mean_valid_losses \u003d []\n",
        "valid_acc_list \u003d []\n",
        "epochs \u003d 10\n",
        "\n",
        "for epoch in range(epochs):\n",
        "    model.train()\n",
        "    \n",
        "    train_losses \u003d []\n",
        "    valid_losses \u003d []\n",
        "    for i, (images, labels) in enumerate(train_loader):\n",
        "        \n",
        "        optimizer.zero_grad()\n",
        "        \n",
        "        outputs \u003d model(images)\n",
        "        loss \u003d loss_fn(outputs, labels)\n",
        "        loss.backward()\n",
        "        optimizer.step()\n",
        "        \n",
        "        train_losses.append(loss.item())\n",
        "        \n",
        "        if (i * 128) % (128 * 100) \u003d\u003d 0:\n",
        "            print(f\u0027{i * 128} / 50000\u0027)\n",
        "            \n",
        "    model.eval()\n",
        "    correct \u003d 0\n",
        "    total \u003d 0\n",
        "    with torch.no_grad():\n",
        "        for i, (images, labels) in enumerate(valid_loader):\n",
        "            outputs \u003d model(images)\n",
        "            loss \u003d loss_fn(outputs, labels)\n",
        "            \n",
        "            valid_losses.append(loss.item())\n",
        "            \n",
        "            _, predicted \u003d torch.max(outputs.data, 1)\n",
        "            correct +\u003d (predicted \u003d\u003d labels).sum().item()\n",
        "            total +\u003d labels.size(0)\n",
        "            \n",
        "    mean_train_losses.append(np.mean(train_losses))\n",
        "    mean_valid_losses.append(np.mean(valid_losses))\n",
        "    \n",
        "    accuracy \u003d 100*correct/total\n",
        "    valid_acc_list.append(accuracy)\n",
        "    print(\u0027epoch : {}, train loss : {:.4f}, valid loss : {:.4f}, valid acc : {:.2f}%\u0027\\\n",
        "         .format(epoch+1, np.mean(train_losses), np.mean(valid_losses), accuracy))"
      ],
      "execution_count": 0,
      "outputs": [
        {
          "output_type": "stream",
          "text": [
            "0 / 50000\n",
            "12800 / 50000\n",
            "25600 / 50000\n",
            "epoch : 1, train loss : 0.3408, valid loss : 0.2440, valid acc : 92.99%\n",
            "0 / 50000\n",
            "12800 / 50000\n",
            "25600 / 50000\n",
            "epoch : 2, train loss : 0.2276, valid loss : 0.1729, valid acc : 94.65%\n",
            "0 / 50000\n",
            "12800 / 50000\n",
            "25600 / 50000\n",
            "epoch : 3, train loss : 0.1783, valid loss : 0.1515, valid acc : 95.38%\n",
            "0 / 50000\n",
            "12800 / 50000\n",
            "25600 / 50000\n",
            "epoch : 4, train loss : 0.1456, valid loss : 0.1269, valid acc : 96.06%\n",
            "0 / 50000\n"
          ],
          "name": "stdout"
        },
        {
          "output_type": "error",
          "ename": "KeyboardInterrupt",
          "evalue": "ignored",
          "traceback": [
            "\u001b[0;31m---------------------------------------------------------------------------\u001b[0m",
            "\u001b[0;31mKeyboardInterrupt\u001b[0m                         Traceback (most recent call last)",
            "\u001b[0;32m\u003cipython-input-190-9192d2c63888\u003e\u001b[0m in \u001b[0;36m\u003cmodule\u003e\u001b[0;34m()\u001b[0m\n\u001b[1;32m      9\u001b[0m     \u001b[0mtrain_losses\u001b[0m \u001b[0;34m\u003d\u001b[0m \u001b[0;34m[\u001b[0m\u001b[0;34m]\u001b[0m\u001b[0;34m\u001b[0m\u001b[0;34m\u001b[0m\u001b[0m\n\u001b[1;32m     10\u001b[0m     \u001b[0mvalid_losses\u001b[0m \u001b[0;34m\u003d\u001b[0m \u001b[0;34m[\u001b[0m\u001b[0;34m]\u001b[0m\u001b[0;34m\u001b[0m\u001b[0;34m\u001b[0m\u001b[0m\n\u001b[0;32m---\u003e 11\u001b[0;31m     \u001b[0;32mfor\u001b[0m \u001b[0mi\u001b[0m\u001b[0;34m,\u001b[0m \u001b[0;34m(\u001b[0m\u001b[0mimages\u001b[0m\u001b[0;34m,\u001b[0m \u001b[0mlabels\u001b[0m\u001b[0;34m)\u001b[0m \u001b[0;32min\u001b[0m \u001b[0menumerate\u001b[0m\u001b[0;34m(\u001b[0m\u001b[0mtrain_loader\u001b[0m\u001b[0;34m)\u001b[0m\u001b[0;34m:\u001b[0m\u001b[0;34m\u001b[0m\u001b[0;34m\u001b[0m\u001b[0m\n\u001b[0m\u001b[1;32m     12\u001b[0m \u001b[0;34m\u001b[0m\u001b[0m\n\u001b[1;32m     13\u001b[0m         \u001b[0moptimizer\u001b[0m\u001b[0;34m.\u001b[0m\u001b[0mzero_grad\u001b[0m\u001b[0;34m(\u001b[0m\u001b[0;34m)\u001b[0m\u001b[0;34m\u001b[0m\u001b[0;34m\u001b[0m\u001b[0m\n",
            "\u001b[0;32m/usr/local/lib/python3.6/dist-packages/torch/utils/data/dataloader.py\u001b[0m in \u001b[0;36m__next__\u001b[0;34m(self)\u001b[0m\n\u001b[1;32m    558\u001b[0m         \u001b[0;32mif\u001b[0m \u001b[0mself\u001b[0m\u001b[0;34m.\u001b[0m\u001b[0mnum_workers\u001b[0m \u001b[0;34m\u003d\u003d\u001b[0m \u001b[0;36m0\u001b[0m\u001b[0;34m:\u001b[0m  \u001b[0;31m# same-process loading\u001b[0m\u001b[0;34m\u001b[0m\u001b[0;34m\u001b[0m\u001b[0m\n\u001b[1;32m    559\u001b[0m             \u001b[0mindices\u001b[0m \u001b[0;34m\u003d\u001b[0m \u001b[0mnext\u001b[0m\u001b[0;34m(\u001b[0m\u001b[0mself\u001b[0m\u001b[0;34m.\u001b[0m\u001b[0msample_iter\u001b[0m\u001b[0;34m)\u001b[0m  \u001b[0;31m# may raise StopIteration\u001b[0m\u001b[0;34m\u001b[0m\u001b[0;34m\u001b[0m\u001b[0m\n\u001b[0;32m--\u003e 560\u001b[0;31m             \u001b[0mbatch\u001b[0m \u001b[0;34m\u003d\u001b[0m \u001b[0mself\u001b[0m\u001b[0;34m.\u001b[0m\u001b[0mcollate_fn\u001b[0m\u001b[0;34m(\u001b[0m\u001b[0;34m[\u001b[0m\u001b[0mself\u001b[0m\u001b[0;34m.\u001b[0m\u001b[0mdataset\u001b[0m\u001b[0;34m[\u001b[0m\u001b[0mi\u001b[0m\u001b[0;34m]\u001b[0m \u001b[0;32mfor\u001b[0m \u001b[0mi\u001b[0m \u001b[0;32min\u001b[0m \u001b[0mindices\u001b[0m\u001b[0;34m]\u001b[0m\u001b[0;34m)\u001b[0m\u001b[0;34m\u001b[0m\u001b[0;34m\u001b[0m\u001b[0m\n\u001b[0m\u001b[1;32m    561\u001b[0m             \u001b[0;32mif\u001b[0m \u001b[0mself\u001b[0m\u001b[0;34m.\u001b[0m\u001b[0mpin_memory\u001b[0m\u001b[0;34m:\u001b[0m\u001b[0;34m\u001b[0m\u001b[0;34m\u001b[0m\u001b[0m\n\u001b[1;32m    562\u001b[0m                 \u001b[0mbatch\u001b[0m \u001b[0;34m\u003d\u001b[0m \u001b[0m_utils\u001b[0m\u001b[0;34m.\u001b[0m\u001b[0mpin_memory\u001b[0m\u001b[0;34m.\u001b[0m\u001b[0mpin_memory_batch\u001b[0m\u001b[0;34m(\u001b[0m\u001b[0mbatch\u001b[0m\u001b[0;34m)\u001b[0m\u001b[0;34m\u001b[0m\u001b[0;34m\u001b[0m\u001b[0m\n",
            "\u001b[0;32m/usr/local/lib/python3.6/dist-packages/torch/utils/data/dataloader.py\u001b[0m in \u001b[0;36m\u003clistcomp\u003e\u001b[0;34m(.0)\u001b[0m\n\u001b[1;32m    558\u001b[0m         \u001b[0;32mif\u001b[0m \u001b[0mself\u001b[0m\u001b[0;34m.\u001b[0m\u001b[0mnum_workers\u001b[0m \u001b[0;34m\u003d\u003d\u001b[0m \u001b[0;36m0\u001b[0m\u001b[0;34m:\u001b[0m  \u001b[0;31m# same-process loading\u001b[0m\u001b[0;34m\u001b[0m\u001b[0;34m\u001b[0m\u001b[0m\n\u001b[1;32m    559\u001b[0m             \u001b[0mindices\u001b[0m \u001b[0;34m\u003d\u001b[0m \u001b[0mnext\u001b[0m\u001b[0;34m(\u001b[0m\u001b[0mself\u001b[0m\u001b[0;34m.\u001b[0m\u001b[0msample_iter\u001b[0m\u001b[0;34m)\u001b[0m  \u001b[0;31m# may raise StopIteration\u001b[0m\u001b[0;34m\u001b[0m\u001b[0;34m\u001b[0m\u001b[0m\n\u001b[0;32m--\u003e 560\u001b[0;31m             \u001b[0mbatch\u001b[0m \u001b[0;34m\u003d\u001b[0m \u001b[0mself\u001b[0m\u001b[0;34m.\u001b[0m\u001b[0mcollate_fn\u001b[0m\u001b[0;34m(\u001b[0m\u001b[0;34m[\u001b[0m\u001b[0mself\u001b[0m\u001b[0;34m.\u001b[0m\u001b[0mdataset\u001b[0m\u001b[0;34m[\u001b[0m\u001b[0mi\u001b[0m\u001b[0;34m]\u001b[0m \u001b[0;32mfor\u001b[0m \u001b[0mi\u001b[0m \u001b[0;32min\u001b[0m \u001b[0mindices\u001b[0m\u001b[0;34m]\u001b[0m\u001b[0;34m)\u001b[0m\u001b[0;34m\u001b[0m\u001b[0;34m\u001b[0m\u001b[0m\n\u001b[0m\u001b[1;32m    561\u001b[0m             \u001b[0;32mif\u001b[0m \u001b[0mself\u001b[0m\u001b[0;34m.\u001b[0m\u001b[0mpin_memory\u001b[0m\u001b[0;34m:\u001b[0m\u001b[0;34m\u001b[0m\u001b[0;34m\u001b[0m\u001b[0m\n\u001b[1;32m    562\u001b[0m                 \u001b[0mbatch\u001b[0m \u001b[0;34m\u003d\u001b[0m \u001b[0m_utils\u001b[0m\u001b[0;34m.\u001b[0m\u001b[0mpin_memory\u001b[0m\u001b[0;34m.\u001b[0m\u001b[0mpin_memory_batch\u001b[0m\u001b[0;34m(\u001b[0m\u001b[0mbatch\u001b[0m\u001b[0;34m)\u001b[0m\u001b[0;34m\u001b[0m\u001b[0;34m\u001b[0m\u001b[0m\n",
            "\u001b[0;32m\u003cipython-input-179-964a706f96af\u003e\u001b[0m in \u001b[0;36m__getitem__\u001b[0;34m(self, index)\u001b[0m\n\u001b[1;32m      9\u001b[0m \u001b[0;34m\u001b[0m\u001b[0m\n\u001b[1;32m     10\u001b[0m     \u001b[0;32mdef\u001b[0m \u001b[0m__getitem__\u001b[0m\u001b[0;34m(\u001b[0m\u001b[0mself\u001b[0m\u001b[0;34m,\u001b[0m \u001b[0mindex\u001b[0m\u001b[0;34m)\u001b[0m\u001b[0;34m:\u001b[0m\u001b[0;34m\u001b[0m\u001b[0;34m\u001b[0m\u001b[0m\n\u001b[0;32m---\u003e 11\u001b[0;31m         \u001b[0mimage\u001b[0m \u001b[0;34m\u003d\u001b[0m \u001b[0mself\u001b[0m\u001b[0;34m.\u001b[0m\u001b[0mX\u001b[0m\u001b[0;34m.\u001b[0m\u001b[0miloc\u001b[0m\u001b[0;34m[\u001b[0m\u001b[0mindex\u001b[0m\u001b[0;34m,\u001b[0m \u001b[0;34m]\u001b[0m\u001b[0;34m.\u001b[0m\u001b[0mvalues\u001b[0m\u001b[0;34m.\u001b[0m\u001b[0mastype\u001b[0m\u001b[0;34m(\u001b[0m\u001b[0mnp\u001b[0m\u001b[0;34m.\u001b[0m\u001b[0muint8\u001b[0m\u001b[0;34m)\u001b[0m\u001b[0;34m.\u001b[0m\u001b[0mreshape\u001b[0m\u001b[0;34m(\u001b[0m\u001b[0;34m(\u001b[0m\u001b[0;36m28\u001b[0m\u001b[0;34m,\u001b[0m \u001b[0;36m28\u001b[0m\u001b[0;34m,\u001b[0m \u001b[0;36m1\u001b[0m\u001b[0;34m)\u001b[0m\u001b[0;34m)\u001b[0m\u001b[0;34m\u001b[0m\u001b[0;34m\u001b[0m\u001b[0m\n\u001b[0m\u001b[1;32m     12\u001b[0m \u001b[0;34m\u001b[0m\u001b[0m\n\u001b[1;32m     13\u001b[0m         \u001b[0;32mif\u001b[0m \u001b[0mself\u001b[0m\u001b[0;34m.\u001b[0m\u001b[0mtransform\u001b[0m \u001b[0;32mis\u001b[0m \u001b[0;32mnot\u001b[0m \u001b[0;32mNone\u001b[0m\u001b[0;34m:\u001b[0m\u001b[0;34m\u001b[0m\u001b[0;34m\u001b[0m\u001b[0m\n",
            "\u001b[0;32m/usr/local/lib/python3.6/dist-packages/pandas/core/indexing.py\u001b[0m in \u001b[0;36m__getitem__\u001b[0;34m(self, key)\u001b[0m\n\u001b[1;32m   1492\u001b[0m             \u001b[0;32mexcept\u001b[0m \u001b[0;34m(\u001b[0m\u001b[0mKeyError\u001b[0m\u001b[0;34m,\u001b[0m \u001b[0mIndexError\u001b[0m\u001b[0;34m,\u001b[0m \u001b[0mAttributeError\u001b[0m\u001b[0;34m)\u001b[0m\u001b[0;34m:\u001b[0m\u001b[0;34m\u001b[0m\u001b[0;34m\u001b[0m\u001b[0m\n\u001b[1;32m   1493\u001b[0m                 \u001b[0;32mpass\u001b[0m\u001b[0;34m\u001b[0m\u001b[0;34m\u001b[0m\u001b[0m\n\u001b[0;32m-\u003e 1494\u001b[0;31m             \u001b[0;32mreturn\u001b[0m \u001b[0mself\u001b[0m\u001b[0;34m.\u001b[0m\u001b[0m_getitem_tuple\u001b[0m\u001b[0;34m(\u001b[0m\u001b[0mkey\u001b[0m\u001b[0;34m)\u001b[0m\u001b[0;34m\u001b[0m\u001b[0;34m\u001b[0m\u001b[0m\n\u001b[0m\u001b[1;32m   1495\u001b[0m         \u001b[0;32melse\u001b[0m\u001b[0;34m:\u001b[0m\u001b[0;34m\u001b[0m\u001b[0;34m\u001b[0m\u001b[0m\n\u001b[1;32m   1496\u001b[0m             \u001b[0;31m# we by definition only have the 0th axis\u001b[0m\u001b[0;34m\u001b[0m\u001b[0;34m\u001b[0m\u001b[0;34m\u001b[0m\u001b[0m\n",
            "\u001b[0;32m/usr/local/lib/python3.6/dist-packages/pandas/core/indexing.py\u001b[0m in \u001b[0;36m_getitem_tuple\u001b[0;34m(self, tup)\u001b[0m\n\u001b[1;32m   2143\u001b[0m         \u001b[0mself\u001b[0m\u001b[0;34m.\u001b[0m\u001b[0m_has_valid_tuple\u001b[0m\u001b[0;34m(\u001b[0m\u001b[0mtup\u001b[0m\u001b[0;34m)\u001b[0m\u001b[0;34m\u001b[0m\u001b[0;34m\u001b[0m\u001b[0m\n\u001b[1;32m   2144\u001b[0m         \u001b[0;32mtry\u001b[0m\u001b[0;34m:\u001b[0m\u001b[0;34m\u001b[0m\u001b[0;34m\u001b[0m\u001b[0m\n\u001b[0;32m-\u003e 2145\u001b[0;31m             \u001b[0;32mreturn\u001b[0m \u001b[0mself\u001b[0m\u001b[0;34m.\u001b[0m\u001b[0m_getitem_lowerdim\u001b[0m\u001b[0;34m(\u001b[0m\u001b[0mtup\u001b[0m\u001b[0;34m)\u001b[0m\u001b[0;34m\u001b[0m\u001b[0;34m\u001b[0m\u001b[0m\n\u001b[0m\u001b[1;32m   2146\u001b[0m         \u001b[0;32mexcept\u001b[0m \u001b[0mIndexingError\u001b[0m\u001b[0;34m:\u001b[0m\u001b[0;34m\u001b[0m\u001b[0;34m\u001b[0m\u001b[0m\n\u001b[1;32m   2147\u001b[0m             \u001b[0;32mpass\u001b[0m\u001b[0;34m\u001b[0m\u001b[0;34m\u001b[0m\u001b[0m\n",
            "\u001b[0;32m/usr/local/lib/python3.6/dist-packages/pandas/core/indexing.py\u001b[0m in \u001b[0;36m_getitem_lowerdim\u001b[0;34m(self, tup)\u001b[0m\n\u001b[1;32m    986\u001b[0m         \u001b[0;32mfor\u001b[0m \u001b[0mi\u001b[0m\u001b[0;34m,\u001b[0m \u001b[0mkey\u001b[0m \u001b[0;32min\u001b[0m \u001b[0menumerate\u001b[0m\u001b[0;34m(\u001b[0m\u001b[0mtup\u001b[0m\u001b[0;34m)\u001b[0m\u001b[0;34m:\u001b[0m\u001b[0;34m\u001b[0m\u001b[0;34m\u001b[0m\u001b[0m\n\u001b[1;32m    987\u001b[0m             \u001b[0;32mif\u001b[0m \u001b[0mis_label_like\u001b[0m\u001b[0;34m(\u001b[0m\u001b[0mkey\u001b[0m\u001b[0;34m)\u001b[0m \u001b[0;32mor\u001b[0m \u001b[0misinstance\u001b[0m\u001b[0;34m(\u001b[0m\u001b[0mkey\u001b[0m\u001b[0;34m,\u001b[0m \u001b[0mtuple\u001b[0m\u001b[0;34m)\u001b[0m\u001b[0;34m:\u001b[0m\u001b[0;34m\u001b[0m\u001b[0;34m\u001b[0m\u001b[0m\n\u001b[0;32m--\u003e 988\u001b[0;31m                 \u001b[0msection\u001b[0m \u001b[0;34m\u003d\u001b[0m \u001b[0mself\u001b[0m\u001b[0;34m.\u001b[0m\u001b[0m_getitem_axis\u001b[0m\u001b[0;34m(\u001b[0m\u001b[0mkey\u001b[0m\u001b[0;34m,\u001b[0m \u001b[0maxis\u001b[0m\u001b[0;34m\u003d\u001b[0m\u001b[0mi\u001b[0m\u001b[0;34m)\u001b[0m\u001b[0;34m\u001b[0m\u001b[0;34m\u001b[0m\u001b[0m\n\u001b[0m\u001b[1;32m    989\u001b[0m \u001b[0;34m\u001b[0m\u001b[0m\n\u001b[1;32m    990\u001b[0m                 \u001b[0;31m# we have yielded a scalar ?\u001b[0m\u001b[0;34m\u001b[0m\u001b[0;34m\u001b[0m\u001b[0;34m\u001b[0m\u001b[0m\n",
            "\u001b[0;32m/usr/local/lib/python3.6/dist-packages/pandas/core/indexing.py\u001b[0m in \u001b[0;36m_getitem_axis\u001b[0;34m(self, key, axis)\u001b[0m\n\u001b[1;32m   2230\u001b[0m             \u001b[0mself\u001b[0m\u001b[0;34m.\u001b[0m\u001b[0m_validate_integer\u001b[0m\u001b[0;34m(\u001b[0m\u001b[0mkey\u001b[0m\u001b[0;34m,\u001b[0m \u001b[0maxis\u001b[0m\u001b[0;34m)\u001b[0m\u001b[0;34m\u001b[0m\u001b[0;34m\u001b[0m\u001b[0m\n\u001b[1;32m   2231\u001b[0m \u001b[0;34m\u001b[0m\u001b[0m\n\u001b[0;32m-\u003e 2232\u001b[0;31m             \u001b[0;32mreturn\u001b[0m \u001b[0mself\u001b[0m\u001b[0;34m.\u001b[0m\u001b[0m_get_loc\u001b[0m\u001b[0;34m(\u001b[0m\u001b[0mkey\u001b[0m\u001b[0;34m,\u001b[0m \u001b[0maxis\u001b[0m\u001b[0;34m\u003d\u001b[0m\u001b[0maxis\u001b[0m\u001b[0;34m)\u001b[0m\u001b[0;34m\u001b[0m\u001b[0;34m\u001b[0m\u001b[0m\n\u001b[0m\u001b[1;32m   2233\u001b[0m \u001b[0;34m\u001b[0m\u001b[0m\n\u001b[1;32m   2234\u001b[0m     \u001b[0;32mdef\u001b[0m \u001b[0m_convert_to_indexer\u001b[0m\u001b[0;34m(\u001b[0m\u001b[0mself\u001b[0m\u001b[0;34m,\u001b[0m \u001b[0mobj\u001b[0m\u001b[0;34m,\u001b[0m \u001b[0maxis\u001b[0m\u001b[0;34m\u003d\u001b[0m\u001b[0;32mNone\u001b[0m\u001b[0;34m,\u001b[0m \u001b[0mis_setter\u001b[0m\u001b[0;34m\u003d\u001b[0m\u001b[0;32mFalse\u001b[0m\u001b[0;34m)\u001b[0m\u001b[0;34m:\u001b[0m\u001b[0;34m\u001b[0m\u001b[0;34m\u001b[0m\u001b[0m\n",
            "\u001b[0;32m/usr/local/lib/python3.6/dist-packages/pandas/core/indexing.py\u001b[0m in \u001b[0;36m_get_loc\u001b[0;34m(self, key, axis)\u001b[0m\n\u001b[1;32m    144\u001b[0m         \u001b[0;32mif\u001b[0m \u001b[0maxis\u001b[0m \u001b[0;32mis\u001b[0m \u001b[0;32mNone\u001b[0m\u001b[0;34m:\u001b[0m\u001b[0;34m\u001b[0m\u001b[0;34m\u001b[0m\u001b[0m\n\u001b[1;32m    145\u001b[0m             \u001b[0maxis\u001b[0m \u001b[0;34m\u003d\u001b[0m \u001b[0mself\u001b[0m\u001b[0;34m.\u001b[0m\u001b[0maxis\u001b[0m\u001b[0;34m\u001b[0m\u001b[0;34m\u001b[0m\u001b[0m\n\u001b[0;32m--\u003e 146\u001b[0;31m         \u001b[0;32mreturn\u001b[0m \u001b[0mself\u001b[0m\u001b[0;34m.\u001b[0m\u001b[0mobj\u001b[0m\u001b[0;34m.\u001b[0m\u001b[0m_ixs\u001b[0m\u001b[0;34m(\u001b[0m\u001b[0mkey\u001b[0m\u001b[0;34m,\u001b[0m \u001b[0maxis\u001b[0m\u001b[0;34m\u003d\u001b[0m\u001b[0maxis\u001b[0m\u001b[0;34m)\u001b[0m\u001b[0;34m\u001b[0m\u001b[0;34m\u001b[0m\u001b[0m\n\u001b[0m\u001b[1;32m    147\u001b[0m \u001b[0;34m\u001b[0m\u001b[0m\n\u001b[1;32m    148\u001b[0m     \u001b[0;32mdef\u001b[0m \u001b[0m_slice\u001b[0m\u001b[0;34m(\u001b[0m\u001b[0mself\u001b[0m\u001b[0;34m,\u001b[0m \u001b[0mobj\u001b[0m\u001b[0;34m,\u001b[0m \u001b[0maxis\u001b[0m\u001b[0;34m\u003d\u001b[0m\u001b[0;32mNone\u001b[0m\u001b[0;34m,\u001b[0m \u001b[0mkind\u001b[0m\u001b[0;34m\u003d\u001b[0m\u001b[0;32mNone\u001b[0m\u001b[0;34m)\u001b[0m\u001b[0;34m:\u001b[0m\u001b[0;34m\u001b[0m\u001b[0;34m\u001b[0m\u001b[0m\n",
            "\u001b[0;32m/usr/local/lib/python3.6/dist-packages/pandas/core/frame.py\u001b[0m in \u001b[0;36m_ixs\u001b[0;34m(self, i, axis)\u001b[0m\n\u001b[1;32m   2849\u001b[0m                     \u001b[0mcopy\u001b[0m \u001b[0;34m\u003d\u001b[0m \u001b[0;32mTrue\u001b[0m\u001b[0;34m\u001b[0m\u001b[0;34m\u001b[0m\u001b[0m\n\u001b[1;32m   2850\u001b[0m                 \u001b[0;32melse\u001b[0m\u001b[0;34m:\u001b[0m\u001b[0;34m\u001b[0m\u001b[0;34m\u001b[0m\u001b[0m\n\u001b[0;32m-\u003e 2851\u001b[0;31m                     \u001b[0mnew_values\u001b[0m \u001b[0;34m\u003d\u001b[0m \u001b[0mself\u001b[0m\u001b[0;34m.\u001b[0m\u001b[0m_data\u001b[0m\u001b[0;34m.\u001b[0m\u001b[0mfast_xs\u001b[0m\u001b[0;34m(\u001b[0m\u001b[0mi\u001b[0m\u001b[0;34m)\u001b[0m\u001b[0;34m\u001b[0m\u001b[0;34m\u001b[0m\u001b[0m\n\u001b[0m\u001b[1;32m   2852\u001b[0m                     \u001b[0;32mif\u001b[0m \u001b[0mis_scalar\u001b[0m\u001b[0;34m(\u001b[0m\u001b[0mnew_values\u001b[0m\u001b[0;34m)\u001b[0m\u001b[0;34m:\u001b[0m\u001b[0;34m\u001b[0m\u001b[0;34m\u001b[0m\u001b[0m\n\u001b[1;32m   2853\u001b[0m                         \u001b[0;32mreturn\u001b[0m \u001b[0mnew_values\u001b[0m\u001b[0;34m\u001b[0m\u001b[0;34m\u001b[0m\u001b[0m\n",
            "\u001b[0;32m/usr/local/lib/python3.6/dist-packages/pandas/core/internals/managers.py\u001b[0m in \u001b[0;36mfast_xs\u001b[0;34m(self, loc)\u001b[0m\n\u001b[1;32m    900\u001b[0m             \u001b[0;31m# result[blk.mgr_locs] \u003d blk._slice((slice(None), loc))\u001b[0m\u001b[0;34m\u001b[0m\u001b[0;34m\u001b[0m\u001b[0;34m\u001b[0m\u001b[0m\n\u001b[1;32m    901\u001b[0m             \u001b[0;32mfor\u001b[0m \u001b[0mi\u001b[0m\u001b[0;34m,\u001b[0m \u001b[0mrl\u001b[0m \u001b[0;32min\u001b[0m \u001b[0menumerate\u001b[0m\u001b[0;34m(\u001b[0m\u001b[0mblk\u001b[0m\u001b[0;34m.\u001b[0m\u001b[0mmgr_locs\u001b[0m\u001b[0;34m)\u001b[0m\u001b[0;34m:\u001b[0m\u001b[0;34m\u001b[0m\u001b[0;34m\u001b[0m\u001b[0m\n\u001b[0;32m--\u003e 902\u001b[0;31m                 \u001b[0mresult\u001b[0m\u001b[0;34m[\u001b[0m\u001b[0mrl\u001b[0m\u001b[0;34m]\u001b[0m \u001b[0;34m\u003d\u001b[0m \u001b[0mblk\u001b[0m\u001b[0;34m.\u001b[0m\u001b[0m_try_coerce_result\u001b[0m\u001b[0;34m(\u001b[0m\u001b[0mblk\u001b[0m\u001b[0;34m.\u001b[0m\u001b[0miget\u001b[0m\u001b[0;34m(\u001b[0m\u001b[0;34m(\u001b[0m\u001b[0mi\u001b[0m\u001b[0;34m,\u001b[0m \u001b[0mloc\u001b[0m\u001b[0;34m)\u001b[0m\u001b[0;34m)\u001b[0m\u001b[0;34m)\u001b[0m\u001b[0;34m\u001b[0m\u001b[0;34m\u001b[0m\u001b[0m\n\u001b[0m\u001b[1;32m    903\u001b[0m \u001b[0;34m\u001b[0m\u001b[0m\n\u001b[1;32m    904\u001b[0m         \u001b[0;32mif\u001b[0m \u001b[0mis_extension_array_dtype\u001b[0m\u001b[0;34m(\u001b[0m\u001b[0mdtype\u001b[0m\u001b[0;34m)\u001b[0m\u001b[0;34m:\u001b[0m\u001b[0;34m\u001b[0m\u001b[0;34m\u001b[0m\u001b[0m\n",
            "\u001b[0;31mKeyboardInterrupt\u001b[0m: "
          ]
        }
      ]
    },
    {
      "cell_type": "code",
      "metadata": {
        "id": "umrWxpHtznAT",
        "colab_type": "code",
        "outputId": "58c01074-94a2-4e94-c5ea-793d522fefab",
        "colab": {
          "base_uri": "https://localhost:8080/",
          "height": 612
        },
        "pycharm": {}
      },
      "source": [
        "fig, (ax1, ax2) \u003d plt.subplots(nrows\u003d1, ncols\u003d2, figsize\u003d(15, 10))\n",
        "ax1.plot(mean_train_losses, label\u003d\u0027train\u0027)\n",
        "ax1.plot(mean_valid_losses, label\u003d\u0027valid\u0027)\n",
        "lines, labels \u003d ax1.get_legend_handles_labels()\n",
        "ax1.legend(lines, labels, loc\u003d\u0027best\u0027)\n",
        "\n",
        "ax2.plot(valid_acc_list, label\u003d\u0027valid acc\u0027)\n",
        "ax2.legend()"
      ],
      "execution_count": 0,
      "outputs": [
        {
          "output_type": "execute_result",
          "data": {
            "text/plain": [
              "\u003cmatplotlib.legend.Legend at 0x7fcb3041a5c0\u003e"
            ]
          },
          "metadata": {
            "tags": []
          },
          "execution_count": 191
        },
        {
          "output_type": "display_data",
          "data": {
            "image/png": "[encoded data removed]",
            "text/plain": [
              "\u003cFigure size 1080x720 with 2 Axes\u003e"
            ]
          },
          "metadata": {
            "tags": []
          }
        }
      ]
    },
    {
      "cell_type": "code",
      "metadata": {
        "id": "zz1wl4WIznGR",
        "colab_type": "code",
        "colab": {},
        "pycharm": {}
      },
      "source": [
        "model.eval()\n",
        "test_preds \u003d torch.LongTensor()\n",
        "\n",
        "for i, images in enumerate(test_loader):\n",
        "    outputs \u003d model(images)\n",
        "    \n",
        "    pred \u003d outputs.max(1, keepdim\u003dTrue)[1]\n",
        "    test_preds \u003d torch.cat((test_preds, pred), dim\u003d0)"
      ],
      "execution_count": 0,
      "outputs": []
    },
    {
      "cell_type": "code",
      "metadata": {
        "id": "yz5-mvvcznJG",
        "colab_type": "code",
        "colab": {},
        "pycharm": {}
      },
      "source": [
        "out_df \u003d pd.DataFrame()\n",
        "out_df[\u0027ID\u0027] \u003d np.arange(1, len(X_test.index)+1)\n",
        "\n",
        "out_df[\u0027label\u0027] \u003d test_preds.numpy()\n",
        "\n",
        "out_df.head()"
      ],
      "execution_count": 0,
      "outputs": []
    },
    {
      "cell_type": "code",
      "metadata": {
        "id": "bKVxNUhTzs_L",
        "colab_type": "code",
        "colab": {},
        "pycharm": {}
      },
      "source": [
        "out_df.to_csv(\u0027submission.csv\u0027, index\u003dNone)"
      ],
      "execution_count": 0,
      "outputs": []
    },
    {
      "cell_type": "code",
      "metadata": {
        "id": "9VfNpQ-EeWUq",
        "colab_type": "code",
        "colab": {},
        "pycharm": {}
      },
      "source": [
        "import IPython\n",
        "from google.colab import output"
      ],
      "execution_count": 0,
      "outputs": []
    },
    {
      "cell_type": "code",
      "metadata": {
        "id": "jm9Kb2wtp8z7",
        "colab_type": "code",
        "outputId": "e5cba882-4d58-4187-9290-310aa021e770",
        "colab": {
          "base_uri": "https://localhost:8080/",
          "height": 171
        },
        "pycharm": {}
      },
      "source": [
        "display(IPython.display.HTML(\u0027\u0027\u0027\n",
        "\u003ctable\u003e\n",
        "\u003ctd style\u003d\"border-style: none;\"\u003e\n",
        "\u003cdiv style\u003d\"border: solid 2px #666; width: 143px; height: 144px;\"\u003e\n",
        "\u003ccanvas width\u003d\"140\" height\u003d\"140\"\u003e\u003c/canvas\u003e\n",
        "\u003c/div\u003e\u003c/td\u003e\n",
        "\u003ctd style\u003d\"border-style: none;\"\u003e\n",
        "\u003cbutton onclick\u003d\"clear_value()\"\u003eClear\u003c/button\u003e\n",
        "\u003cbutton onclick\u003d\"set_value()\"\u003eSET\u003c/button\u003e\n",
        "\n",
        "\u003c/td\u003e\n",
        "\u003c/table\u003e\n",
        "\n",
        "\u003cscript type\u003d\"text/Javascript\"\u003e\n",
        "    var pixels \u003d [];\n",
        "    for (var i \u003d 0; i \u003c 28*28; i++) pixels[i] \u003d 0;\n",
        "    var click \u003d 0;\n",
        "  \n",
        "    var canvas \u003d document.querySelector(\"canvas\");\n",
        "  \n",
        "    canvas.addEventListener(\"mousemove\", function(e){\n",
        "        if (e.buttons \u003d\u003d 1) {\n",
        "            canvas.getContext(\"2d\").fillStyle \u003d \"rgb(0,0,0)\";\n",
        "            canvas.getContext(\"2d\").fillRect(e.offsetX, e.offsetY, 8, 8);\n",
        "            x \u003d Math.floor(e.offsetY * 0.2)\n",
        "            y \u003d Math.floor(e.offsetX * 0.2) + 1\n",
        "            for (var dy \u003d 0; dy \u003c 2; dy++){\n",
        "                for (var dx \u003d 0; dx \u003c 2; dx++){\n",
        "                    if ((x + dx \u003c 28) \u0026\u0026 (y + dy \u003c 28)){\n",
        "                        pixels[(y+dy)+(x+dx)*28] \u003d 255\n",
        "                    }\n",
        "                }\n",
        "            }\n",
        "        } \n",
        "        \n",
        "    });\n",
        "    \n",
        "    function set_value(){   \n",
        "        var result \u003d \"[\";\n",
        "        for (var i \u003d 0; i \u003c 28*28; i++) result +\u003d pixels[i] + \",\";\n",
        "        result +\u003d \"]\";     \n",
        "        google.colab.kernel.invokeFunction(\u0027notebook.AddListItem\u0027, [result], {});\n",
        "    }\n",
        "    \n",
        "    function clear_value(){\n",
        "        canvas.getContext(\"2d\").fillStyle \u003d \"rgb(255,255,255)\";\n",
        "        canvas.getContext(\"2d\").fillRect(0, 0, 140, 140);\n",
        "        for (var i \u003d 0; i \u003c 28*28; i++) pixels[i] \u003d 0;\n",
        "      \n",
        "      \n",
        "    }\n",
        "  \n",
        "  \n",
        "        \n",
        "      \n",
        "\u003c/script\u003e\n",
        "\u0027\u0027\u0027))\n",
        "\n",
        "img_temp \u003d []\n",
        "\n",
        "def add_list_item(img):\n",
        "  # Use redirect_to_element to direct the elements which are being written.\n",
        "  global img_temp\n",
        "  img_temp \u003d img\n",
        "   \n",
        "output.register_callback(\u0027notebook.AddListItem\u0027, add_list_item)\n"
      ],
      "execution_count": 0,
      "outputs": [
        {
          "output_type": "display_data",
          "data": {
            "text/html": [
              "\n",
              "\u003ctable\u003e\n",
              "\u003ctd style\u003d\"border-style: none;\"\u003e\n",
              "\u003cdiv style\u003d\"border: solid 2px #666; width: 143px; height: 144px;\"\u003e\n",
              "\u003ccanvas width\u003d\"140\" height\u003d\"140\"\u003e\u003c/canvas\u003e\n",
              "\u003c/div\u003e\u003c/td\u003e\n",
              "\u003ctd style\u003d\"border-style: none;\"\u003e\n",
              "\u003cbutton onclick\u003d\"clear_value()\"\u003eClear\u003c/button\u003e\n",
              "\u003cbutton onclick\u003d\"set_value()\"\u003eSET\u003c/button\u003e\n",
              "\n",
              "\u003c/td\u003e\n",
              "\u003c/table\u003e\n",
              "\n",
              "\u003cscript type\u003d\"text/Javascript\"\u003e\n",
              "    var pixels \u003d [];\n",
              "    for (var i \u003d 0; i \u003c 28*28; i++) pixels[i] \u003d 0;\n",
              "    var click \u003d 0;\n",
              "  \n",
              "    var canvas \u003d document.querySelector(\"canvas\");\n",
              "  \n",
              "    canvas.addEventListener(\"mousemove\", function(e){\n",
              "        if (e.buttons \u003d\u003d 1) {\n",
              "            canvas.getContext(\"2d\").fillStyle \u003d \"rgb(0,0,0)\";\n",
              "            canvas.getContext(\"2d\").fillRect(e.offsetX, e.offsetY, 8, 8);\n",
              "            x \u003d Math.floor(e.offsetY * 0.2)\n",
              "            y \u003d Math.floor(e.offsetX * 0.2) + 1\n",
              "            for (var dy \u003d 0; dy \u003c 2; dy++){\n",
              "                for (var dx \u003d 0; dx \u003c 2; dx++){\n",
              "                    if ((x + dx \u003c 28) \u0026\u0026 (y + dy \u003c 28)){\n",
              "                        pixels[(y+dy)+(x+dx)*28] \u003d 255\n",
              "                    }\n",
              "                }\n",
              "            }\n",
              "        } \n",
              "        \n",
              "    });\n",
              "    \n",
              "    function set_value(){   \n",
              "        var result \u003d \"[\";\n",
              "        for (var i \u003d 0; i \u003c 28*28; i++) result +\u003d pixels[i] + \",\";\n",
              "        result +\u003d \"]\";     \n",
              "        google.colab.kernel.invokeFunction(\u0027notebook.AddListItem\u0027, [result], {});\n",
              "    }\n",
              "    \n",
              "    function clear_value(){\n",
              "        canvas.getContext(\"2d\").fillStyle \u003d \"rgb(255,255,255)\";\n",
              "        canvas.getContext(\"2d\").fillRect(0, 0, 140, 140);\n",
              "        for (var i \u003d 0; i \u003c 28*28; i++) pixels[i] \u003d 0;\n",
              "      \n",
              "      \n",
              "    }\n",
              "  \n",
              "  \n",
              "        \n",
              "      \n",
              "\u003c/script\u003e\n"
            ],
            "text/plain": [
              "\u003cIPython.core.display.HTML object\u003e"
            ]
          },
          "metadata": {
            "tags": []
          }
        }
      ]
    },
    {
      "cell_type": "code",
      "metadata": {
        "id": "MVERIMBdDaKz",
        "colab_type": "code",
        "colab": {},
        "pycharm": {}
      },
      "source": [
        "image \u003d np.array(eval(img_temp),dtype\u003dnp.float)\n"
      ],
      "execution_count": 0,
      "outputs": []
    },
    {
      "cell_type": "code",
      "metadata": {
        "id": "zN9m2MZdqNRO",
        "colab_type": "code",
        "outputId": "abee4767-2ac0-4314-d640-db59dde71dd7",
        "colab": {
          "base_uri": "https://localhost:8080/",
          "height": 86
        },
        "pycharm": {}
      },
      "source": [
        "data_temp \u003d torch.tensor(image,dtype\u003dtorch.float)\n",
        "data_in \u003d data_temp.view(1,-1)\n",
        "outputs \u003d model(data_in)\n",
        "pred \u003d outputs.max(1, keepdim\u003dTrue)[1]\n",
        "print(outputs)\n",
        "print(pred)"
      ],
      "execution_count": 0,
      "outputs": [
        {
          "output_type": "stream",
          "text": [
            "tensor([[ -352.5197, -1139.1824,   596.1927,   721.6185, -2197.6633,   -76.7210,\n",
            "         -2707.5696,   965.4075,  -807.0718,   229.5524]],\n",
            "       grad_fn\u003d\u003cAddmmBackward\u003e)\n",
            "tensor([[7]])\n"
          ],
          "name": "stdout"
        }
      ]
    }
  ]
}